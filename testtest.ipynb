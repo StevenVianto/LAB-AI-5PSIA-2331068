import matplotlib.pyplot as plt

plt.plot([1, 2, 3], [1, 4, 9])
plt.title("Test plot")
plt.show()


from sklearn.datasets import load_iris

X, y = load_iris(return_X_y=True)
print("Iris shape:", X.shape)
