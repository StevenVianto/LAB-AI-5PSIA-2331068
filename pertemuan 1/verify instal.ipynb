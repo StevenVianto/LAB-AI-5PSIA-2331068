# verify_installation.py (versi yang disempurnakan)
# Skrip untuk memverifikasi instalasi pustaka dengan metode modern.

import sys
import importlib
import importlib.metadata  # Tambahkan import ini

print("--- Memeriksa Instalasi Pustaka ---")

# Daftar pustaka: 'nama-distribusi-pip': 'nama-saat-import'
# Nama distribusi penting untuk importlib.metadata
packages_to_check = {
    "numpy": "numpy",
    "pandas": "pandas",
    "matplotlib": "matplotlib",
    "seaborn": "seaborn",
    "scikit-learn": "sklearn",
    "scikit-fuzzy": "skfuzzy",
    "opencv-python": "cv2",
    "joblib": "joblib",
    "dill": "dill",
    "nltk": "nltk",
    "spacy": "spacy",
    "tensorflow": "tensorflow",
    "torch": "torch",
    "torchvision": "torchvision",
    "transformers": "transformers",
    "Flask": "flask",  # Gunakan nama 'Flask' (case-sensitive) untuk metadata
    "fastapi": "fastapi"
}

failed_packages = []

for dist_name, import_name in packages_to_check.items():
    try:
        # Coba import modul terlebih dahulu
        module = importlib.import_module(import_name)
        version = 'unknown'
        
        try:
            # 🔧 CARA 1: Metode modern dan direkomendasikan
            version = importlib.metadata.version(dist_name)
        except importlib.metadata.PackageNotFoundError:
            #  fallback CARA 2: Metode lama jika cara modern gagal
            version = getattr(module, '__version__', 'unknown')

        print(f"✅ OK: {dist_name:<15} (versi: {version})")

    except ImportError:
        print(f"❌ ERROR: {dist_name:<15} -> Tidak terinstal.")
        failed_packages.append(dist_name)

print("-" * 40)
print(f"Menggunakan Python versi: {sys.version.split()[0]}")

if not failed_packages:
    print("\n🎉 Semua pustaka berhasil diverifikasi!")
else:
    print(f"\n⚠️ Pustaka yang gagal diimpor: {', '.join(failed_packages)}")
